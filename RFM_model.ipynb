{
 "cells": [
  {
   "cell_type": "code",
   "execution_count": 9,
   "metadata": {},
   "outputs": [],
   "source": [
    "import pandas as pd\n",
    "import datetime\n",
    "import seaborn as sns\n",
    "import matplotlib.pyplot as plt\n",
    "class RFM:\n",
    "    def __init__(self):\n",
    "        self.RFM = pd.DataFrame()\n",
    "        self.RFM_outlier_free = pd.DataFrame() \n",
    "        \n",
    "    \n",
    "    def get_rfm_values(self,data):\n",
    "        Todays_date = datetime.datetime(2020, 6, 15)\n",
    "        self.RFM = data.groupby('UserId').agg({'TransactionTime': lambda date: (Todays_date - date.max()).days,\n",
    "                                        'TransactionId': lambda num: len(num),\n",
    "                                        'TotalPrice': lambda price: price.sum()})\n",
    "        self.RFM.columns=['Recency','Frequency','Monetary']\n",
    "        self.RFM['Recency'] = self.RFM['Recency'].astype(int)\n",
    "        self.RFM['Frequency'] = self.RFM['Frequency'].astype(int)\n",
    "        self.RFM['Monetary'] = self.RFM['Monetary'].astype(float)\n",
    "        print(self.RFM.head(5))\n",
    "    \n",
    "    def calculate_rfm_score(self):\n",
    "        self.RFM['R']   = pd.qcut(self.RFM['Recency'], 4, ['1','2','3','4'])\n",
    "        self.RFM['F']   = pd.qcut(self.RFM['Frequency'], 4, ['4','3','2','1'])\n",
    "        self.RFM['M']   = pd.qcut(self.RFM['Monetary'], 4, ['4','3','2','1'])\n",
    "        self.RFM['R']   = self.RFM['R'].astype(int)\n",
    "        self.RFM['F']   = self.RFM['F'].astype(int)\n",
    "        self.RFM['M']   = self.RFM['M'].astype(int)\n",
    "        self.RFM['RFM'] = self.RFM['R'].astype(str) + self.RFM['F'].astype(str) + self.RFM['M'].astype(str)\n",
    "        print(self.RFM.head(5))\n",
    "       \n",
    "    def remove_outliers(self):\n",
    "        Q1 = self.RFM.quantile(0.25)\n",
    "        Q3 = self.RFM.quantile(0.75)\n",
    "        IQR = Q3 - Q1\n",
    "        #print('Q1\\n',Q1,'\\nQ3\\n',Q3,'\\nIQR\\n',IQR)\n",
    "        self.RFM_outlier_free = self.RFM[(self.RFM['Recency'] > (Q1['Recency'] - 1.5 * IQR['Recency']))&(self.RFM['Recency'] < (Q3['Recency'] + 1.5 * IQR['Recency']))]\n",
    "        self.RFM_outlier_free = self.RFM_outlier_free[(self.RFM_outlier_free['Frequency'] > (Q1['Frequency'] - 1.5 * IQR['Frequency']))&(self.RFM_outlier_free['Frequency'] < (Q3['Frequency'] + 1.5 * IQR['Frequency']))]\n",
    "        self.RFM_outlier_free = self.RFM_outlier_free[(self.RFM_outlier_free['Monetary'] > (Q1['Monetary'] - 1.5 * IQR['Monetary']))&(self.RFM_outlier_free['Monetary'] < (Q3['Monetary'] + 1.5 * IQR['Monetary']))]\n",
    "        print(\"Number of outliers removed  = \",len(self.RFM)-len(self.RFM_outlier_free))\n",
    "    \n",
    "    def plot_boxplot(self,data,out_free=True):\n",
    "        if out_free == True:\n",
    "            sns.boxplot(data['Recency'],color='red',showfliers=False)\n",
    "            plt.show()\n",
    "            sns.boxplot(data['Frequency'],color='Blue',showfliers=False)\n",
    "            plt.show()\n",
    "            sns.boxplot(data['Monetary'],color='Green',showfliers=False)\n",
    "            plt.show()\n",
    "        else:\n",
    "            sns.boxplot(data['Recency'],color='red',showfliers=True)\n",
    "            plt.show()\n",
    "            sns.boxplot(data['Frequency'],color='Blue',showfliers=True)\n",
    "            plt.show()\n",
    "            sns.boxplot(data['Monetary'],color='Green',showfliers=True)\n",
    "            plt.show()\n",
    "        "
   ]
  },
  {
   "cell_type": "code",
   "execution_count": null,
   "metadata": {},
   "outputs": [],
   "source": []
  }
 ],
 "metadata": {
  "kernelspec": {
   "display_name": "Python [conda env:root] *",
   "language": "python",
   "name": "conda-root-py"
  },
  "language_info": {
   "codemirror_mode": {
    "name": "ipython",
    "version": 3
   },
   "file_extension": ".py",
   "mimetype": "text/x-python",
   "name": "python",
   "nbconvert_exporter": "python",
   "pygments_lexer": "ipython3",
   "version": "3.7.6"
  }
 },
 "nbformat": 4,
 "nbformat_minor": 4
}
