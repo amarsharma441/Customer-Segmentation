{
 "cells": [
  {
   "cell_type": "code",
   "execution_count": 1,
   "metadata": {},
   "outputs": [],
   "source": [
    "import numpy as np\n",
    "class Utility:\n",
    "    \n",
    "    def __init__(self):\n",
    "        pass\n",
    "    \n",
    "    def parse_date(self,TransactionTime):\n",
    "        temp = np.array(TransactionTime)\n",
    "        new_TransactionTime = []\n",
    "\n",
    "        for i in range(len(temp)):\n",
    "            s = str(temp[i][len(temp[i])-4:len(temp[i])])\n",
    "            if temp[i][4:7] == 'Jan':\n",
    "                s=s+'-01-'+str(temp[i][8:10])\n",
    "            elif temp[i][4:7] == 'Feb':\n",
    "                s=s+'-02-'+str(temp[i][8:10])\n",
    "            elif temp[i][4:7] == 'Mar':\n",
    "                s=s+'-03-'+str(temp[i][8:10])\n",
    "            elif temp[i][4:7] == 'Apr':\n",
    "                s=s+'-04-'+str(temp[i][8:10])\n",
    "            elif temp[i][4:7] == 'May':\n",
    "                s=s+'-05-'+str(temp[i][8:10])\n",
    "            elif temp[i][4:7] == 'Jun':\n",
    "                s=s+'-06-'+str(temp[i][8:10])\n",
    "            elif temp[i][4:7] == 'Jul':\n",
    "                s=s+'-07-'+str(temp[i][8:10])\n",
    "            elif temp[i][4:7] == 'Aug':\n",
    "                s=s+'-08-'+str(temp[i][8:10])\n",
    "            elif temp[i][4:7] == 'Sep':\n",
    "                s=s+'-09-'+str(temp[i][8:10])\n",
    "            elif temp[i][4:7] == 'Oct':\n",
    "                s=s+'-10-'+str(temp[i][8:10])\n",
    "            elif temp[i][4:7] == 'Nov':\n",
    "                s=s+'-11-'+str(temp[i][8:10])\n",
    "            elif temp[i][4:7] == 'Dec':\n",
    "                s=s+'-12-'+str(temp[i][8:10])\n",
    "            else:\n",
    "                print('ERROR')\n",
    "                return -1\n",
    "            new_TransactionTime.append(s)\n",
    "        return new_TransactionTime\n",
    "        "
   ]
  },
  {
   "cell_type": "code",
   "execution_count": null,
   "metadata": {},
   "outputs": [],
   "source": []
  }
 ],
 "metadata": {
  "kernelspec": {
   "display_name": "Python [conda env:root] *",
   "language": "python",
   "name": "conda-root-py"
  },
  "language_info": {
   "codemirror_mode": {
    "name": "ipython",
    "version": 3
   },
   "file_extension": ".py",
   "mimetype": "text/x-python",
   "name": "python",
   "nbconvert_exporter": "python",
   "pygments_lexer": "ipython3",
   "version": "3.7.6"
  }
 },
 "nbformat": 4,
 "nbformat_minor": 4
}
